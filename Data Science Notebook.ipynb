{
 "cells": [
  {
   "cell_type": "markdown",
   "id": "c3c91f46",
   "metadata": {},
   "source": [
    "# Data Science Notebook\n"
   ]
  },
  {
   "cell_type": "markdown",
   "id": "d7c2794d",
   "metadata": {},
   "source": [
    "## Introduction\n",
    "\n",
    "Welcome to this data science notebook! In this notebook, we will explore various data science languages, libraries, and tools, and perform some simple calculations and conversions.\n"
   ]
  },
  {
   "cell_type": "markdown",
   "id": "6ce57d51",
   "metadata": {},
   "source": [
    "## Data Science Languages\n",
    "\n",
    "- Python\n",
    "- R\n",
    "- Julia\n",
    "- SQL\n"
   ]
  },
  {
   "cell_type": "markdown",
   "id": "500b5fd0",
   "metadata": {},
   "source": [
    "## Data Science Libraries\n",
    "\n",
    "- Pandas\n",
    "- NumPy\n",
    "- Matplotlib\n",
    "- Seaborn\n",
    "- Scikit-Learn\n",
    "- TensorFlow\n",
    "- PyTorch\n"
   ]
  },
  {
   "cell_type": "markdown",
   "id": "74a1e3b6",
   "metadata": {},
   "source": [
    "## Data Science Tools\n",
    "\n",
    "| Category       | Tools                 |\n",
    "|----------------|-----------------------|\n",
    "| Data Cleaning  | OpenRefine, Trifacta |\n",
    "| Visualization  | Tableau, Power BI    |\n",
    "| Database       | MySQL, PostgreSQL    |\n",
    "| Cloud Services | AWS, Azure, GCP      |\n"
   ]
  },
  {
   "cell_type": "markdown",
   "id": "ad116fee",
   "metadata": {},
   "source": [
    "## Arithmetic Expression Examples\n",
    "\n",
    "Let's explore some simple arithmetic expressions to better understand calculations in programming.\n"
   ]
  },
  {
   "cell_type": "code",
   "execution_count": 1,
   "id": "c844f2fb",
   "metadata": {},
   "outputs": [
    {
     "name": "stdout",
     "output_type": "stream",
     "text": [
      "Multiplication: 15\n",
      "Addition: 8\n"
     ]
    }
   ],
   "source": [
    "# Multiplication\n",
    "multiply_result = 5 * 3\n",
    "print(\"Multiplication:\", multiply_result)\n",
    "\n",
    "# Addition\n",
    "addition_result = 5 + 3\n",
    "print(\"Addition:\", addition_result)\n"
   ]
  },
  {
   "cell_type": "code",
   "execution_count": 2,
   "id": "f559cd4f",
   "metadata": {},
   "outputs": [
    {
     "name": "stdout",
     "output_type": "stream",
     "text": [
      "Hours: 2.0\n"
     ]
    }
   ],
   "source": [
    "# Conversion: Minutes to Hours\n",
    "minutes = 120\n",
    "hours = minutes / 60\n",
    "print(\"Hours:\", hours)\n"
   ]
  },
  {
   "cell_type": "markdown",
   "id": "4ee64b24",
   "metadata": {},
   "source": [
    "## Objectives\n",
    "\n",
    "- Explore popular data science languages and libraries.\n",
    "- Introduce fundamental data science tools.\n",
    "- Perform basic arithmetic calculations and conversions.\n"
   ]
  },
  {
   "cell_type": "markdown",
   "id": "5d5e900a",
   "metadata": {},
   "source": [
    "## Author\n",
    "\n",
    "Your Name\n"
   ]
  },
  {
   "cell_type": "code",
   "execution_count": null,
   "id": "7eb93d3f",
   "metadata": {},
   "outputs": [],
   "source": []
  }
 ],
 "metadata": {
  "kernelspec": {
   "display_name": "Python 3 (ipykernel)",
   "language": "python",
   "name": "python3"
  },
  "language_info": {
   "codemirror_mode": {
    "name": "ipython",
    "version": 3
   },
   "file_extension": ".py",
   "mimetype": "text/x-python",
   "name": "python",
   "nbconvert_exporter": "python",
   "pygments_lexer": "ipython3",
   "version": "3.9.7"
  }
 },
 "nbformat": 4,
 "nbformat_minor": 5
}
